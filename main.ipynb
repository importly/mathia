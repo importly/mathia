{
 "cells": [
  {
   "cell_type": "code",
   "id": "initial_id",
   "metadata": {
    "collapsed": true,
    "ExecuteTime": {
     "end_time": "2025-01-13T22:10:02.639304Z",
     "start_time": "2025-01-13T22:10:02.636836Z"
    }
   },
   "source": [
    "import numpy as np\n",
    "from PIL import Image"
   ],
   "outputs": [],
   "execution_count": 65
  },
  {
   "metadata": {
    "ExecuteTime": {
     "end_time": "2025-01-13T22:10:02.655055Z",
     "start_time": "2025-01-13T22:10:02.652132Z"
    }
   },
   "cell_type": "code",
   "source": [
    "def array_to_grayscale_image_alt(arr, save_path=None):\n",
    "    \"\"\"\n",
    "    Alternate method using frombytes to create the image.\n",
    "    0 => black, 1 => white.\n",
    "    \"\"\"\n",
    "    arr_clamped = np.clip(arr, 0, 1)\n",
    "    arr_8bit = (arr_clamped * 255).astype(np.uint8)\n",
    "\n",
    "    # Dimensions: (width, height) = (num_columns, num_rows)\n",
    "    h, w = arr_8bit.shape\n",
    "    # Create the image directly from raw bytes in 'L' mode\n",
    "    image = Image.frombytes('L', (w, h), arr_8bit.tobytes())\n",
    "\n",
    "    if save_path:\n",
    "        image.save(save_path)\n",
    "\n",
    "    return image"
   ],
   "id": "24dac112d759b455",
   "outputs": [],
   "execution_count": 66
  },
  {
   "metadata": {
    "ExecuteTime": {
     "end_time": "2025-01-13T22:10:02.661094Z",
     "start_time": "2025-01-13T22:10:02.658192Z"
    }
   },
   "cell_type": "code",
   "source": [
    "def scale_height(img, scale_factor=100):\n",
    "    width = img.width *100\n",
    "    height = img.height *100\n",
    "\n",
    "    resized_img = img.resize((width, height), resample=Image.NEAREST)\n",
    "\n",
    "    return resized_img"
   ],
   "id": "fbb611b90b878f9",
   "outputs": [],
   "execution_count": 67
  },
  {
   "metadata": {
    "ExecuteTime": {
     "end_time": "2025-01-13T22:10:02.670182Z",
     "start_time": "2025-01-13T22:10:02.667931Z"
    }
   },
   "cell_type": "code",
   "source": "array = np.array([[0,0,0,0,0,1,0,0,0,0,0]])",
   "id": "5ec9d9821864dc7a",
   "outputs": [],
   "execution_count": 68
  },
  {
   "metadata": {
    "ExecuteTime": {
     "end_time": "2025-01-13T22:10:02.679481Z",
     "start_time": "2025-01-13T22:10:02.675401Z"
    }
   },
   "cell_type": "code",
   "source": "scale_height(array_to_grayscale_image_alt(array, 'test.png'), 100)",
   "id": "4221e54eeed75239",
   "outputs": [
    {
     "data": {
      "text/plain": [
       "<PIL.Image.Image image mode=L size=1100x100>"
      ],
      "image/png": "[encoded data removed]",
      "image/jpeg": "[encoded data removed]"
     },
     "execution_count": 69,
     "metadata": {},
     "output_type": "execute_result"
    }
   ],
   "execution_count": 69
  },
  {
   "metadata": {
    "ExecuteTime": {
     "end_time": "2025-01-13T22:10:02.700373Z",
     "start_time": "2025-01-13T22:10:02.697649Z"
    }
   },
   "cell_type": "code",
   "source": "kernel = [[0.022,0.098,0.162,0.098,0.022]]",
   "id": "14a2f943e83f7f6e",
   "outputs": [],
   "execution_count": 70
  },
  {
   "metadata": {
    "ExecuteTime": {
     "end_time": "2025-01-13T22:10:02.726653Z",
     "start_time": "2025-01-13T22:10:02.721201Z"
    }
   },
   "cell_type": "code",
   "source": "scale_height(array_to_grayscale_image_alt(kernel, 'kernal.png'), 100)",
   "id": "b46c163b2a088713",
   "outputs": [
    {
     "data": {
      "text/plain": [
       "<PIL.Image.Image image mode=L size=500x100>"
      ],
      "image/png": "[encoded data removed]",
      "image/jpeg": "[encoded data removed]"
     },
     "execution_count": 71,
     "metadata": {},
     "output_type": "execute_result"
    }
   ],
   "execution_count": 71
  },
  {
   "metadata": {
    "ExecuteTime": {
     "end_time": "2025-01-13T22:10:02.751772Z",
     "start_time": "2025-01-13T22:10:02.748542Z"
    }
   },
   "cell_type": "code",
   "source": [
    "def apply_convolution(array, kernel):\n",
    "    kernel_1d = kernel[0]\n",
    "    kernel_size = kernel_1d.shape[0]\n",
    "\n",
    "    # We'll pad left and right by kernel_size//2 for 'same' behavior\n",
    "    padding = kernel_size // 2\n",
    "\n",
    "    # Pad horizontally (2nd dimension); no vertical padding (1st dimension)\n",
    "    padded_array = np.pad(array, ((0, 0), (padding, padding)), mode='constant')\n",
    "    print(padded_array)\n",
    "\n",
    "    # Prepare output\n",
    "    output_array = np.zeros_like(array, dtype=float)\n",
    "\n",
    "    rows, cols = array.shape\n",
    "    for i in range(rows):\n",
    "        for j in range(cols):\n",
    "            # region covers j..j+kernel_size in the *padded* array\n",
    "            region = padded_array[i, j : j + kernel_size]\n",
    "            # Multiply–accumulate\n",
    "            output_array[i, j] = np.sum(region * kernel_1d)\n",
    "\n",
    "    return output_array"
   ],
   "id": "ff3b2906057edbcd",
   "outputs": [],
   "execution_count": 72
  },
  {
   "metadata": {
    "ExecuteTime": {
     "end_time": "2025-01-13T22:10:02.786278Z",
     "start_time": "2025-01-13T22:10:02.783420Z"
    }
   },
   "cell_type": "code",
   "source": [
    "array = np.array([np.zeros(11)])\n",
    "array[0][len(array[0])//2] = 1\n",
    "kernel = np.array(kernel)"
   ],
   "id": "371aaa37cf49d081",
   "outputs": [],
   "execution_count": 73
  },
  {
   "metadata": {
    "ExecuteTime": {
     "end_time": "2025-01-13T22:10:02.808280Z",
     "start_time": "2025-01-13T22:10:02.803171Z"
    }
   },
   "cell_type": "code",
   "source": "scale_height(array_to_grayscale_image_alt(kernel, 'test2.png'))",
   "id": "eb1ac7bc53e85ef6",
   "outputs": [
    {
     "data": {
      "text/plain": [
       "<PIL.Image.Image image mode=L size=500x100>"
      ],
      "image/png": "[encoded data removed]",
      "image/jpeg": "[encoded data removed]"
     },
     "execution_count": 74,
     "metadata": {},
     "output_type": "execute_result"
    }
   ],
   "execution_count": 74
  },
  {
   "metadata": {
    "ExecuteTime": {
     "end_time": "2025-01-13T22:10:02.839399Z",
     "start_time": "2025-01-13T22:10:02.834598Z"
    }
   },
   "cell_type": "code",
   "source": "array_to_grayscale_image_alt(array, 'test2.png')",
   "id": "bfe3c1c9cf4691ef",
   "outputs": [
    {
     "data": {
      "text/plain": [
       "<PIL.Image.Image image mode=L size=11x1>"
      ],
      "image/png": "[encoded data removed]",
      "image/jpeg": "[encoded data removed]"
     },
     "execution_count": 75,
     "metadata": {},
     "output_type": "execute_result"
    }
   ],
   "execution_count": 75
  },
  {
   "metadata": {
    "ExecuteTime": {
     "end_time": "2025-01-13T22:10:42.582337Z",
     "start_time": "2025-01-13T22:10:42.577678Z"
    }
   },
   "cell_type": "code",
   "source": "array",
   "id": "793da0eb48dd5f39",
   "outputs": [
    {
     "data": {
      "text/plain": [
       "array([[0., 0., 0., 0., 0., 1., 0., 0., 0., 0., 0.]])"
      ]
     },
     "execution_count": 81,
     "metadata": {},
     "output_type": "execute_result"
    }
   ],
   "execution_count": 81
  },
  {
   "metadata": {
    "ExecuteTime": {
     "end_time": "2025-01-13T22:10:02.876264Z",
     "start_time": "2025-01-13T22:10:02.871114Z"
    }
   },
   "cell_type": "code",
   "source": "scale_height(array_to_grayscale_image_alt(array, 'test2.png'))",
   "id": "4a8dd52b2f269c99",
   "outputs": [
    {
     "data": {
      "text/plain": [
       "<PIL.Image.Image image mode=L size=1100x100>"
      ],
      "image/png": "[encoded data removed]",
      "image/jpeg": "[encoded data removed]"
     },
     "execution_count": 76,
     "metadata": {},
     "output_type": "execute_result"
    }
   ],
   "execution_count": 76
  },
  {
   "metadata": {
    "ExecuteTime": {
     "end_time": "2025-01-13T22:10:02.917527Z",
     "start_time": "2025-01-13T22:10:02.911112Z"
    }
   },
   "cell_type": "code",
   "source": "scale_height(array_to_grayscale_image_alt(apply_convolution(array,kernel), 'test2.png'))",
   "id": "be5f922583527d97",
   "outputs": [
    {
     "name": "stdout",
     "output_type": "stream",
     "text": [
      "[[0. 0. 0. 0. 0. 0. 0. 1. 0. 0. 0. 0. 0. 0. 0.]]\n"
     ]
    },
    {
     "data": {
      "text/plain": [
       "<PIL.Image.Image image mode=L size=1100x100>"
      ],
      "image/png": "[encoded data removed]",
      "image/jpeg": "[encoded data removed]"
     },
     "execution_count": 77,
     "metadata": {},
     "output_type": "execute_result"
    }
   ],
   "execution_count": 77
  },
  {
   "metadata": {
    "ExecuteTime": {
     "end_time": "2025-01-13T22:10:02.947585Z",
     "start_time": "2025-01-13T22:10:02.942481Z"
    }
   },
   "cell_type": "code",
   "source": "scale_height(array_to_grayscale_image_alt(apply_convolution(apply_convolution(array,kernel),kernel), 'test2.png'))",
   "id": "e7b62c4cc5c0a848",
   "outputs": [
    {
     "name": "stdout",
     "output_type": "stream",
     "text": [
      "[[0. 0. 0. 0. 0. 0. 0. 1. 0. 0. 0. 0. 0. 0. 0.]]\n",
      "[[0.    0.    0.    0.    0.    0.022 0.098 0.162 0.098 0.022 0.    0.\n",
      "  0.    0.    0.   ]]\n"
     ]
    },
    {
     "data": {
      "text/plain": [
       "<PIL.Image.Image image mode=L size=1100x100>"
      ],
      "image/png": "[encoded data removed]",
      "image/jpeg": "[encoded data removed]"
     },
     "execution_count": 78,
     "metadata": {},
     "output_type": "execute_result"
    }
   ],
   "execution_count": 78
  },
  {
   "metadata": {
    "ExecuteTime": {
     "end_time": "2025-01-13T22:10:02.983949Z",
     "start_time": "2025-01-13T22:10:02.973414Z"
    }
   },
   "cell_type": "code",
   "source": "scale_height(array_to_grayscale_image_alt(apply_convolution(apply_convolution(apply_convolution(array, kernel),kernel),kernel), 'test2.png'))",
   "id": "b1c8e6457998cf35",
   "outputs": [
    {
     "name": "stdout",
     "output_type": "stream",
     "text": [
      "[[0. 0. 0. 0. 0. 0. 0. 1. 0. 0. 0. 0. 0. 0. 0.]]\n",
      "[[0.    0.    0.    0.    0.    0.022 0.098 0.162 0.098 0.022 0.    0.\n",
      "  0.    0.    0.   ]]\n",
      "[[0.       0.       0.       0.000484 0.004312 0.016732 0.036064 0.04642\n",
      "  0.036064 0.016732 0.004312 0.000484 0.       0.       0.      ]]\n"
     ]
    },
    {
     "data": {
      "text/plain": [
       "<PIL.Image.Image image mode=L size=1100x100>"
      ],
      "image/png": "[encoded data removed]",
      "image/jpeg": "[encoded data removed]"
     },
     "execution_count": 79,
     "metadata": {},
     "output_type": "execute_result"
    }
   ],
   "execution_count": 79
  },
  {
   "metadata": {
    "ExecuteTime": {
     "end_time": "2025-01-13T22:10:03.011250Z",
     "start_time": "2025-01-13T22:10:03.006101Z"
    }
   },
   "cell_type": "code",
   "source": "apply_convolution(apply_convolution(array,kernel),kernel)",
   "id": "1ba200ac0d06c387",
   "outputs": [
    {
     "name": "stdout",
     "output_type": "stream",
     "text": [
      "[[0. 0. 0. 0. 0. 0. 0. 1. 0. 0. 0. 0. 0. 0. 0.]]\n",
      "[[0.    0.    0.    0.    0.    0.022 0.098 0.162 0.098 0.022 0.    0.\n",
      "  0.    0.    0.   ]]\n"
     ]
    },
    {
     "data": {
      "text/plain": [
       "array([[0.      , 0.000484, 0.004312, 0.016732, 0.036064, 0.04642 ,\n",
       "        0.036064, 0.016732, 0.004312, 0.000484, 0.      ]])"
      ]
     },
     "execution_count": 80,
     "metadata": {},
     "output_type": "execute_result"
    }
   ],
   "execution_count": 80
  }
 ],
 "metadata": {
  "kernelspec": {
   "display_name": "Python 3",
   "language": "python",
   "name": "python3"
  },
  "language_info": {
   "codemirror_mode": {
    "name": "ipython",
    "version": 2
   },
   "file_extension": ".py",
   "mimetype": "text/x-python",
   "name": "python",
   "nbconvert_exporter": "python",
   "pygments_lexer": "ipython2",
   "version": "2.7.6"
  }
 },
 "nbformat": 4,
 "nbformat_minor": 5
}
